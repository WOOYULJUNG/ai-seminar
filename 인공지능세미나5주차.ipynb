{
  "nbformat": 4,
  "nbformat_minor": 0,
  "metadata": {
    "colab": {
      "provenance": [],
      "gpuType": "T4"
    },
    "kernelspec": {
      "name": "python3",
      "display_name": "Python 3"
    },
    "language_info": {
      "name": "python"
    },
    "accelerator": "GPU"
  },
  "cells": [
    {
      "cell_type": "code",
      "execution_count": 7,
      "metadata": {
        "id": "bkZ35ntQXJ72"
      },
      "outputs": [],
      "source": [
        "#Importing Library\n",
        "\n",
        "import torch\n",
        "import torch.nn as nn\n",
        "import torch.nn.functional as F\n",
        "import torch.optim as optim\n",
        "from torchvision import datasets, transforms"
      ]
    },
    {
      "cell_type": "code",
      "source": [
        "class Net(nn.Module):\n",
        "    def __init__(self):\n",
        "        super(Net, self).__init__()\n",
        "        self.fc1 = nn.Linear(784, 512)\n",
        "        self.fc2 = nn.Linear(512, 256)\n",
        "        self.fc3 = nn.Linear(256, 128)\n",
        "        self.fc4 = nn.Linear(128, 64)\n",
        "        self.fc5 = nn.Linear(64, 32)\n",
        "        self.fc6 = nn.Linear(32, 10)\n",
        "\n",
        "    def forward(self, x):\n",
        "        x = x.float()\n",
        "        h1 = F.relu(self.fc1(x.view(-1, 784)))\n",
        "        h2 = F.relu(self.fc2(h1))\n",
        "        h3 = F.relu(self.fc3(h2))\n",
        "        h4 = F.relu(self.fc4(h3))\n",
        "        h5 = F.relu(self.fc5(h4))\n",
        "        h6 = self.fc6(h5)\n",
        "        return F.softmax(h6, dim=1)"
      ],
      "metadata": {
        "id": "wqgu0OzaXL08"
      },
      "execution_count": 8,
      "outputs": []
    },
    {
      "cell_type": "code",
      "source": [
        "device = torch.device(\"cuda\" if torch.cuda.is_available() else \"cpu\")\n",
        "\n",
        "model = Net().to(device)\n",
        "print(model)"
      ],
      "metadata": {
        "colab": {
          "base_uri": "https://localhost:8080/"
        },
        "id": "rhM1eiZ2XUSJ",
        "outputId": "610cb655-271a-478b-e450-5b2cc1d2e94c"
      },
      "execution_count": 9,
      "outputs": [
        {
          "output_type": "stream",
          "name": "stdout",
          "text": [
            "Net(\n",
            "  (fc1): Linear(in_features=784, out_features=512, bias=True)\n",
            "  (fc2): Linear(in_features=512, out_features=256, bias=True)\n",
            "  (fc3): Linear(in_features=256, out_features=128, bias=True)\n",
            "  (fc4): Linear(in_features=128, out_features=64, bias=True)\n",
            "  (fc5): Linear(in_features=64, out_features=32, bias=True)\n",
            "  (fc6): Linear(in_features=32, out_features=10, bias=True)\n",
            ")\n"
          ]
        }
      ]
    },
    {
      "cell_type": "code",
      "source": [
        "transform = transforms.Compose([\n",
        "                 transforms.ToTensor(),\n",
        "                 transforms.Normalize((0.1307,), (0.3081,))])\n",
        "\n",
        "train_loader = torch.utils.data.DataLoader(\n",
        "  datasets.MNIST('../data', train=True, download=True,\n",
        "                 transform=transform),\n",
        "    batch_size = 64, shuffle=True, )\n",
        "\n",
        "test_loader = torch.utils.data.DataLoader(\n",
        "        datasets.MNIST('../data', train=False, download=True,\n",
        "                 transform=transform),\n",
        "    batch_size=64, shuffle=True, )"
      ],
      "metadata": {
        "id": "5TJZro2uXa6P"
      },
      "execution_count": 10,
      "outputs": []
    },
    {
      "cell_type": "code",
      "source": [
        "epochs = 10\n",
        "lr = 0.01\n",
        "momentum = 0.5\n",
        "no_cuda = True\n",
        "seed = 1\n",
        "log_interval = 200\n",
        "\n",
        "torch.manual_seed(seed)\n",
        "optimizer = optim.SGD(model.parameters(), lr=lr, momentum=momentum)"
      ],
      "metadata": {
        "id": "afbXalPJX99B"
      },
      "execution_count": 11,
      "outputs": []
    },
    {
      "cell_type": "code",
      "source": [
        "def train(log_interval, model, device, train_loader, optimizer, epoch):\n",
        "    model.train()\n",
        "    for batch_idx, (data, target) in enumerate(train_loader):\n",
        "        data, target = data.to(device), target.to(device)\n",
        "        optimizer.zero_grad()\n",
        "        output = model(data)\n",
        "        loss = F.nll_loss(output, target)\n",
        "        loss.backward()\n",
        "        optimizer.step()\n",
        "        if batch_idx % log_interval == 0:\n",
        "            print('Train Epoch: {} [{}/{} ({:.0f}%)]\\tLoss: {:.6f}'.format(\n",
        "                epoch, batch_idx * len(data), len(train_loader.dataset),\n",
        "                100. * batch_idx / len(train_loader), loss.item()))"
      ],
      "metadata": {
        "id": "-_MkHlxKYVbw"
      },
      "execution_count": 12,
      "outputs": []
    },
    {
      "cell_type": "code",
      "source": [
        "def test(log_interval, model, device, test_loader):\n",
        "    model.eval()\n",
        "    test_loss = 0\n",
        "    correct = 0\n",
        "    with torch.no_grad():\n",
        "        for data, target in test_loader:\n",
        "            data, target = data.to(device), target.to(device)\n",
        "            output = model(data)\n",
        "            test_loss += F.nll_loss(output, target, reduction='sum').item()\n",
        "            pred = output.argmax(dim=1, keepdim=True)\n",
        "            correct += pred.eq(target.view_as(pred)).sum().item()\n",
        "\n",
        "    test_loss /= len(test_loader.dataset)\n",
        "\n",
        "    print('\\nTest set: Average loss: {:.4f}, Accuracy: {}/{} ({:.0f}%)\\n'.format\n",
        "          (test_loss, correct, len(test_loader.dataset),\n",
        "        100. * correct / len(test_loader.dataset)))"
      ],
      "metadata": {
        "id": "4eRr1dfPYWl6"
      },
      "execution_count": 13,
      "outputs": []
    },
    {
      "cell_type": "code",
      "source": [
        "# Train and Test the model and save it.\n",
        "for epoch in range(1, 11):\n",
        "    train(log_interval, model, device, train_loader, optimizer, epoch)\n",
        "    test(log_interval, model, device, test_loader)\n",
        "torch.save(model, './model.pt')"
      ],
      "metadata": {
        "colab": {
          "base_uri": "https://localhost:8080/"
        },
        "id": "WHwt96iKgICu",
        "outputId": "8cc2f43e-9f8b-4276-d61d-6c2b40793274"
      },
      "execution_count": 14,
      "outputs": [
        {
          "output_type": "stream",
          "name": "stdout",
          "text": [
            "Train Epoch: 1 [0/60000 (0%)]\tLoss: -0.100320\n",
            "Train Epoch: 1 [12800/60000 (21%)]\tLoss: -0.101299\n",
            "Train Epoch: 1 [25600/60000 (43%)]\tLoss: -0.097716\n",
            "Train Epoch: 1 [38400/60000 (64%)]\tLoss: -0.098608\n",
            "Train Epoch: 1 [51200/60000 (85%)]\tLoss: -0.099323\n",
            "\n",
            "Test set: Average loss: -0.1005, Accuracy: 1028/10000 (10%)\n",
            "\n",
            "Train Epoch: 2 [0/60000 (0%)]\tLoss: -0.100081\n",
            "Train Epoch: 2 [12800/60000 (21%)]\tLoss: -0.100467\n",
            "Train Epoch: 2 [25600/60000 (43%)]\tLoss: -0.100176\n",
            "Train Epoch: 2 [38400/60000 (64%)]\tLoss: -0.099207\n",
            "Train Epoch: 2 [51200/60000 (85%)]\tLoss: -0.103874\n",
            "\n",
            "Test set: Average loss: -0.1010, Accuracy: 1028/10000 (10%)\n",
            "\n",
            "Train Epoch: 3 [0/60000 (0%)]\tLoss: -0.103592\n",
            "Train Epoch: 3 [12800/60000 (21%)]\tLoss: -0.098369\n",
            "Train Epoch: 3 [25600/60000 (43%)]\tLoss: -0.099335\n",
            "Train Epoch: 3 [38400/60000 (64%)]\tLoss: -0.099260\n",
            "Train Epoch: 3 [51200/60000 (85%)]\tLoss: -0.102398\n",
            "\n",
            "Test set: Average loss: -0.1018, Accuracy: 1908/10000 (19%)\n",
            "\n",
            "Train Epoch: 4 [0/60000 (0%)]\tLoss: -0.102180\n",
            "Train Epoch: 4 [12800/60000 (21%)]\tLoss: -0.100353\n",
            "Train Epoch: 4 [25600/60000 (43%)]\tLoss: -0.101680\n",
            "Train Epoch: 4 [38400/60000 (64%)]\tLoss: -0.105129\n",
            "Train Epoch: 4 [51200/60000 (85%)]\tLoss: -0.102946\n",
            "\n",
            "Test set: Average loss: -0.1034, Accuracy: 2781/10000 (28%)\n",
            "\n",
            "Train Epoch: 5 [0/60000 (0%)]\tLoss: -0.103150\n",
            "Train Epoch: 5 [12800/60000 (21%)]\tLoss: -0.106646\n",
            "Train Epoch: 5 [25600/60000 (43%)]\tLoss: -0.102091\n",
            "Train Epoch: 5 [38400/60000 (64%)]\tLoss: -0.106932\n",
            "Train Epoch: 5 [51200/60000 (85%)]\tLoss: -0.103278\n",
            "\n",
            "Test set: Average loss: -0.1085, Accuracy: 2935/10000 (29%)\n",
            "\n",
            "Train Epoch: 6 [0/60000 (0%)]\tLoss: -0.109237\n",
            "Train Epoch: 6 [12800/60000 (21%)]\tLoss: -0.112653\n",
            "Train Epoch: 6 [25600/60000 (43%)]\tLoss: -0.124554\n",
            "Train Epoch: 6 [38400/60000 (64%)]\tLoss: -0.177605\n",
            "Train Epoch: 6 [51200/60000 (85%)]\tLoss: -0.202023\n",
            "\n",
            "Test set: Average loss: -0.1849, Accuracy: 3004/10000 (30%)\n",
            "\n",
            "Train Epoch: 7 [0/60000 (0%)]\tLoss: -0.217574\n",
            "Train Epoch: 7 [12800/60000 (21%)]\tLoss: -0.225439\n",
            "Train Epoch: 7 [25600/60000 (43%)]\tLoss: -0.205224\n",
            "Train Epoch: 7 [38400/60000 (64%)]\tLoss: -0.284186\n",
            "Train Epoch: 7 [51200/60000 (85%)]\tLoss: -0.345042\n",
            "\n",
            "Test set: Average loss: -0.3834, Accuracy: 3945/10000 (39%)\n",
            "\n",
            "Train Epoch: 8 [0/60000 (0%)]\tLoss: -0.402910\n",
            "Train Epoch: 8 [12800/60000 (21%)]\tLoss: -0.525748\n",
            "Train Epoch: 8 [25600/60000 (43%)]\tLoss: -0.504982\n",
            "Train Epoch: 8 [38400/60000 (64%)]\tLoss: -0.535167\n",
            "Train Epoch: 8 [51200/60000 (85%)]\tLoss: -0.641031\n",
            "\n",
            "Test set: Average loss: -0.6728, Accuracy: 6982/10000 (70%)\n",
            "\n",
            "Train Epoch: 9 [0/60000 (0%)]\tLoss: -0.625556\n",
            "Train Epoch: 9 [12800/60000 (21%)]\tLoss: -0.643234\n",
            "Train Epoch: 9 [25600/60000 (43%)]\tLoss: -0.740436\n",
            "Train Epoch: 9 [38400/60000 (64%)]\tLoss: -0.722766\n",
            "Train Epoch: 9 [51200/60000 (85%)]\tLoss: -0.728220\n",
            "\n",
            "Test set: Average loss: -0.7282, Accuracy: 7365/10000 (74%)\n",
            "\n",
            "Train Epoch: 10 [0/60000 (0%)]\tLoss: -0.772517\n",
            "Train Epoch: 10 [12800/60000 (21%)]\tLoss: -0.620016\n",
            "Train Epoch: 10 [25600/60000 (43%)]\tLoss: -0.722628\n",
            "Train Epoch: 10 [38400/60000 (64%)]\tLoss: -0.777552\n",
            "Train Epoch: 10 [51200/60000 (85%)]\tLoss: -0.784995\n",
            "\n",
            "Test set: Average loss: -0.7388, Accuracy: 7439/10000 (74%)\n",
            "\n"
          ]
        }
      ]
    },
    {
      "cell_type": "code",
      "source": [
        "mnist_test = datasets.MNIST(root='MNIST_data/',\n",
        "                         train=False,\n",
        "                         transform=transforms.ToTensor(),\n",
        "                         download=True)"
      ],
      "metadata": {
        "colab": {
          "base_uri": "https://localhost:8080/"
        },
        "id": "K2xuEoZbiE5s",
        "outputId": "19f57005-afe9-426d-cf2b-6e88b4b94c1b"
      },
      "execution_count": 18,
      "outputs": [
        {
          "output_type": "stream",
          "name": "stdout",
          "text": [
            "Downloading http://yann.lecun.com/exdb/mnist/train-images-idx3-ubyte.gz\n",
            "Downloading http://yann.lecun.com/exdb/mnist/train-images-idx3-ubyte.gz to MNIST_data/MNIST/raw/train-images-idx3-ubyte.gz\n"
          ]
        },
        {
          "output_type": "stream",
          "name": "stderr",
          "text": [
            "100%|██████████| 9912422/9912422 [00:00<00:00, 71244109.49it/s]\n"
          ]
        },
        {
          "output_type": "stream",
          "name": "stdout",
          "text": [
            "Extracting MNIST_data/MNIST/raw/train-images-idx3-ubyte.gz to MNIST_data/MNIST/raw\n",
            "\n",
            "Downloading http://yann.lecun.com/exdb/mnist/train-labels-idx1-ubyte.gz\n",
            "Downloading http://yann.lecun.com/exdb/mnist/train-labels-idx1-ubyte.gz to MNIST_data/MNIST/raw/train-labels-idx1-ubyte.gz\n"
          ]
        },
        {
          "output_type": "stream",
          "name": "stderr",
          "text": [
            "100%|██████████| 28881/28881 [00:00<00:00, 126446444.49it/s]\n"
          ]
        },
        {
          "output_type": "stream",
          "name": "stdout",
          "text": [
            "Extracting MNIST_data/MNIST/raw/train-labels-idx1-ubyte.gz to MNIST_data/MNIST/raw\n",
            "\n",
            "Downloading http://yann.lecun.com/exdb/mnist/t10k-images-idx3-ubyte.gz\n",
            "Downloading http://yann.lecun.com/exdb/mnist/t10k-images-idx3-ubyte.gz to MNIST_data/MNIST/raw/t10k-images-idx3-ubyte.gz\n"
          ]
        },
        {
          "output_type": "stream",
          "name": "stderr",
          "text": [
            "100%|██████████| 1648877/1648877 [00:00<00:00, 26750723.88it/s]\n"
          ]
        },
        {
          "output_type": "stream",
          "name": "stdout",
          "text": [
            "Extracting MNIST_data/MNIST/raw/t10k-images-idx3-ubyte.gz to MNIST_data/MNIST/raw\n",
            "\n",
            "Downloading http://yann.lecun.com/exdb/mnist/t10k-labels-idx1-ubyte.gz\n",
            "Downloading http://yann.lecun.com/exdb/mnist/t10k-labels-idx1-ubyte.gz to MNIST_data/MNIST/raw/t10k-labels-idx1-ubyte.gz\n"
          ]
        },
        {
          "output_type": "stream",
          "name": "stderr",
          "text": [
            "100%|██████████| 4542/4542 [00:00<00:00, 7409773.93it/s]\n"
          ]
        },
        {
          "output_type": "stream",
          "name": "stdout",
          "text": [
            "Extracting MNIST_data/MNIST/raw/t10k-labels-idx1-ubyte.gz to MNIST_data/MNIST/raw\n",
            "\n"
          ]
        }
      ]
    },
    {
      "cell_type": "code",
      "source": [
        "import matplotlib.pyplot as plt\n",
        "import random\n",
        "\n",
        "with torch.no_grad(): # torch.no_grad()를 하면 gradient 계산을 수행하지 않는다.\n",
        "    X_test = mnist_test.test_data.view(-1, 28 * 28).float().to(device)\n",
        "    Y_test = mnist_test.test_labels.to(device)\n",
        "    for _ in range(5):\n",
        "      r = random.randint(0, len(mnist_test) - 1)\n",
        "      X_single_data = mnist_test.test_data[r:r + 1].view(-1, 28 * 28).float().to(device)\n",
        "      Y_single_data = mnist_test.test_labels[r:r + 1].to(device)\n",
        "\n",
        "      print('Label: ', Y_single_data.item())\n",
        "      single_prediction = model(X_single_data)\n",
        "      print('Prediction: ', torch.argmax(single_prediction, 1).item())\n",
        "\n",
        "      plt.imshow(mnist_test.test_data[r:r + 1].view(28, 28), cmap='Greys', interpolation='nearest')\n",
        "      plt.show()"
      ],
      "metadata": {
        "colab": {
          "base_uri": "https://localhost:8080/",
          "height": 1000
        },
        "id": "xjfddQ9UgLeP",
        "outputId": "dfb1dd85-f968-40c0-91cd-0cf9157b62e0"
      },
      "execution_count": 22,
      "outputs": [
        {
          "output_type": "stream",
          "name": "stderr",
          "text": [
            "/usr/local/lib/python3.10/dist-packages/torchvision/datasets/mnist.py:80: UserWarning: test_data has been renamed data\n",
            "  warnings.warn(\"test_data has been renamed data\")\n",
            "/usr/local/lib/python3.10/dist-packages/torchvision/datasets/mnist.py:70: UserWarning: test_labels has been renamed targets\n",
            "  warnings.warn(\"test_labels has been renamed targets\")\n"
          ]
        },
        {
          "output_type": "stream",
          "name": "stdout",
          "text": [
            "Label:  6\n",
            "Prediction:  6\n"
          ]
        },
        {
          "output_type": "display_data",
          "data": {
            "text/plain": [
              "<Figure size 640x480 with 1 Axes>"
            ],
            "image/png": "[encoded data removed]"
          },
          "metadata": {}
        },
        {
          "output_type": "stream",
          "name": "stdout",
          "text": [
            "Label:  7\n",
            "Prediction:  7\n"
          ]
        },
        {
          "output_type": "display_data",
          "data": {
            "text/plain": [
              "<Figure size 640x480 with 1 Axes>"
            ],
            "image/png": "[encoded data removed]"
          },
          "metadata": {}
        },
        {
          "output_type": "stream",
          "name": "stdout",
          "text": [
            "Label:  8\n",
            "Prediction:  6\n"
          ]
        },
        {
          "output_type": "display_data",
          "data": {
            "text/plain": [
              "<Figure size 640x480 with 1 Axes>"
            ],
            "image/png": "[encoded data removed]"
          },
          "metadata": {}
        },
        {
          "output_type": "stream",
          "name": "stdout",
          "text": [
            "Label:  8\n",
            "Prediction:  3\n"
          ]
        },
        {
          "output_type": "display_data",
          "data": {
            "text/plain": [
              "<Figure size 640x480 with 1 Axes>"
            ],
            "image/png": "[encoded data removed]"
          },
          "metadata": {}
        },
        {
          "output_type": "stream",
          "name": "stdout",
          "text": [
            "Label:  7\n",
            "Prediction:  7\n"
          ]
        },
        {
          "output_type": "display_data",
          "data": {
            "text/plain": [
              "<Figure size 640x480 with 1 Axes>"
            ],
            "image/png": "[encoded data removed]"
          },
          "metadata": {}
        }
      ]
    },
    {
      "cell_type": "code",
      "source": [],
      "metadata": {
        "id": "O_1qYcaKhY43"
      },
      "execution_count": null,
      "outputs": []
    }
  ]
}