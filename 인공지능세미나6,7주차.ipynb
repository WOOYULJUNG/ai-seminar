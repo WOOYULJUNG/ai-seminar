{
  "nbformat": 4,
  "nbformat_minor": 0,
  "metadata": {
    "colab": {
      "provenance": [],
      "gpuType": "T4"
    },
    "kernelspec": {
      "name": "python3",
      "display_name": "Python 3"
    },
    "language_info": {
      "name": "python"
    },
    "accelerator": "GPU"
  },
  "cells": [
    {
      "cell_type": "code",
      "execution_count": 51,
      "metadata": {
        "id": "bkZ35ntQXJ72"
      },
      "outputs": [],
      "source": [
        "#Importing Library\n",
        "\n",
        "import torch\n",
        "import torch.nn as nn\n",
        "import torch.nn.functional as F\n",
        "import torch.optim as optim\n",
        "from torchvision import datasets, transforms"
      ]
    },
    {
      "cell_type": "code",
      "source": [
        "class Net(nn.Module):\n",
        "    def __init__(self):\n",
        "        super(Net, self).__init__()\n",
        "        self.fc1 = nn.Linear(784, 512)\n",
        "        self.fc2 = nn.Linear(512, 256)\n",
        "        self.fc3 = nn.Linear(256, 128)\n",
        "        self.fc4 = nn.Linear(128, 64)\n",
        "        self.fc5 = nn.Linear(64, 32)\n",
        "        self.fc6 = nn.Linear(32, 10)\n",
        "\n",
        "    def forward(self, x):\n",
        "        x = x.float()\n",
        "        h1 = F.relu(self.fc1(x.view(-1, 784)))\n",
        "        h2 = F.relu(self.fc2(h1))\n",
        "        h3 = F.relu(self.fc3(h2))\n",
        "        h4 = F.relu(self.fc4(h3))\n",
        "        h5 = F.relu(self.fc5(h4))\n",
        "        h6 = self.fc6(h5)\n",
        "        return F.softmax(h6, dim=1)"
      ],
      "metadata": {
        "id": "wqgu0OzaXL08"
      },
      "execution_count": 52,
      "outputs": []
    },
    {
      "cell_type": "code",
      "source": [
        "class CNN(torch.nn.Module):\n",
        "\n",
        "    def __init__(self):\n",
        "        super(CNN, self).__init__()\n",
        "        # 첫번째층\n",
        "        # ImgIn shape=(?, 28, 28, 1)\n",
        "        #    Conv     -> (?, 28, 28, 32)\n",
        "        #    Pool     -> (?, 14, 14, 32)\n",
        "        self.layer1 = torch.nn.Sequential(\n",
        "            torch.nn.Conv2d(1, 32, kernel_size=3, stride=1, padding=1),\n",
        "            torch.nn.ReLU(),\n",
        "            torch.nn.MaxPool2d(kernel_size=2, stride=2))\n",
        "\n",
        "        # 두번째층\n",
        "        # ImgIn shape=(?, 14, 14, 32)\n",
        "        #    Conv      ->(?, 14, 14, 64)\n",
        "        #    Pool      ->(?, 7, 7, 64)\n",
        "        self.layer2 = torch.nn.Sequential(\n",
        "            torch.nn.Conv2d(32, 64, kernel_size=3, stride=1, padding=1),\n",
        "            torch.nn.ReLU(),\n",
        "            torch.nn.MaxPool2d(kernel_size=2, stride=2))\n",
        "\n",
        "        # 전결합층 7x7x64 inputs -> 10 outputs\n",
        "        self.fc = torch.nn.Linear(7 * 7 * 64, 10, bias=True)\n",
        "\n",
        "        # 전결합층 한정으로 가중치 초기화\n",
        "        torch.nn.init.xavier_uniform_(self.fc.weight)\n",
        "\n",
        "    def forward(self, x):\n",
        "        out = self.layer1(x)\n",
        "        out = self.layer2(out)\n",
        "        out = out.view(out.size(0), -1)   # 전결합층을 위해서 Flatten\n",
        "        out = self.fc(out)\n",
        "        return F.softmax(out, dim=1)"
      ],
      "metadata": {
        "id": "q1nzy7LlMtro"
      },
      "execution_count": 53,
      "outputs": []
    },
    {
      "cell_type": "code",
      "source": [
        "device = torch.device(\"cuda\" if torch.cuda.is_available() else \"cpu\")\n",
        "\n",
        "model = Net().to(device)\n",
        "#model = CNN().to(device)\n",
        "print(model)"
      ],
      "metadata": {
        "colab": {
          "base_uri": "https://localhost:8080/"
        },
        "id": "rhM1eiZ2XUSJ",
        "outputId": "c4ddcdb0-e984-4ca2-d695-89ddfcea7bb5"
      },
      "execution_count": 54,
      "outputs": [
        {
          "output_type": "stream",
          "name": "stdout",
          "text": [
            "Net(\n",
            "  (fc1): Linear(in_features=784, out_features=512, bias=True)\n",
            "  (fc2): Linear(in_features=512, out_features=256, bias=True)\n",
            "  (fc3): Linear(in_features=256, out_features=128, bias=True)\n",
            "  (fc4): Linear(in_features=128, out_features=64, bias=True)\n",
            "  (fc5): Linear(in_features=64, out_features=32, bias=True)\n",
            "  (fc6): Linear(in_features=32, out_features=10, bias=True)\n",
            ")\n"
          ]
        }
      ]
    },
    {
      "cell_type": "code",
      "source": [
        "transform = transforms.Compose([\n",
        "                 transforms.ToTensor(),\n",
        "                 transforms.Normalize((0.1307,), (0.3081,))])\n",
        "\n",
        "train_loader = torch.utils.data.DataLoader(\n",
        "  datasets.MNIST('../data', train=True, download=True,\n",
        "                 transform=transform),\n",
        "    batch_size = 64, shuffle=True, )\n",
        "\n",
        "test_loader = torch.utils.data.DataLoader(\n",
        "        datasets.MNIST('../data', train=False, download=True,\n",
        "                 transform=transform),\n",
        "    batch_size=64, shuffle=True, )"
      ],
      "metadata": {
        "id": "5TJZro2uXa6P"
      },
      "execution_count": 55,
      "outputs": []
    },
    {
      "cell_type": "code",
      "source": [
        "epochs = 10\n",
        "lr = 0.001\n",
        "momentum = 0.5\n",
        "no_cuda = True\n",
        "seed = 1\n",
        "log_interval = 200\n",
        "\n",
        "torch.manual_seed(seed)\n",
        "#optimizer = optim.SGD(model.parameters(), lr=lr, momentum=momentum)\n",
        "optimizer = optim.Adam(model.parameters(), lr=lr)"
      ],
      "metadata": {
        "id": "afbXalPJX99B"
      },
      "execution_count": 56,
      "outputs": []
    },
    {
      "cell_type": "code",
      "source": [
        "def train(log_interval, model, device, train_loader, optimizer, epoch):\n",
        "    model.train()\n",
        "    for batch_idx, (data, target) in enumerate(train_loader):\n",
        "        data, target = data.to(device), target.to(device)\n",
        "        optimizer.zero_grad()\n",
        "        output = model(data)\n",
        "        loss = F.nll_loss(output, target)\n",
        "        loss.backward()\n",
        "        optimizer.step()\n",
        "        if batch_idx % log_interval == 0:\n",
        "            print('Train Epoch: {} [{}/{} ({:.0f}%)]\\tLoss: {:.6f}'.format(\n",
        "                epoch, batch_idx * len(data), len(train_loader.dataset),\n",
        "                100. * batch_idx / len(train_loader), loss.item()))"
      ],
      "metadata": {
        "id": "-_MkHlxKYVbw"
      },
      "execution_count": 57,
      "outputs": []
    },
    {
      "cell_type": "code",
      "source": [
        "def test(log_interval, model, device, test_loader):\n",
        "    model.eval()\n",
        "    test_loss = 0\n",
        "    correct = 0\n",
        "    with torch.no_grad():\n",
        "        for data, target in test_loader:\n",
        "            data, target = data.to(device), target.to(device)\n",
        "            output = model(data)\n",
        "            test_loss += F.nll_loss(output, target, reduction='sum').item()\n",
        "            pred = output.argmax(dim=1, keepdim=True)\n",
        "            correct += pred.eq(target.view_as(pred)).sum().item()\n",
        "\n",
        "    test_loss /= len(test_loader.dataset)\n",
        "\n",
        "    print('\\nTest set: Average loss: {:.4f}, Accuracy: {}/{} ({:.0f}%)\\n'.format\n",
        "          (test_loss, correct, len(test_loader.dataset),\n",
        "        100. * correct / len(test_loader.dataset)))"
      ],
      "metadata": {
        "id": "4eRr1dfPYWl6"
      },
      "execution_count": 58,
      "outputs": []
    },
    {
      "cell_type": "code",
      "source": [
        "# Train and Test the model and save it.\n",
        "for epoch in range(1, 11):\n",
        "    train(log_interval, model, device, train_loader, optimizer, epoch)\n",
        "    test(log_interval, model, device, test_loader)\n",
        "torch.save(model, './model.pt')"
      ],
      "metadata": {
        "colab": {
          "base_uri": "https://localhost:8080/"
        },
        "id": "WHwt96iKgICu",
        "outputId": "d5a70b9e-8c4b-4c8f-bdd8-afdba5c43e2e"
      },
      "execution_count": 59,
      "outputs": [
        {
          "output_type": "stream",
          "name": "stdout",
          "text": [
            "Train Epoch: 1 [0/60000 (0%)]\tLoss: -0.099125\n",
            "Train Epoch: 1 [12800/60000 (21%)]\tLoss: -0.585304\n",
            "Train Epoch: 1 [25600/60000 (43%)]\tLoss: -0.659596\n",
            "Train Epoch: 1 [38400/60000 (64%)]\tLoss: -0.646415\n",
            "Train Epoch: 1 [51200/60000 (85%)]\tLoss: -0.805050\n",
            "\n",
            "Test set: Average loss: -0.8385, Accuracy: 8394/10000 (84%)\n",
            "\n",
            "Train Epoch: 2 [0/60000 (0%)]\tLoss: -0.785695\n",
            "Train Epoch: 2 [12800/60000 (21%)]\tLoss: -0.726755\n",
            "Train Epoch: 2 [25600/60000 (43%)]\tLoss: -0.820527\n",
            "Train Epoch: 2 [38400/60000 (64%)]\tLoss: -0.751455\n",
            "Train Epoch: 2 [51200/60000 (85%)]\tLoss: -0.827878\n",
            "\n",
            "Test set: Average loss: -0.8495, Accuracy: 8500/10000 (85%)\n",
            "\n",
            "Train Epoch: 3 [0/60000 (0%)]\tLoss: -0.760508\n",
            "Train Epoch: 3 [12800/60000 (21%)]\tLoss: -0.900066\n",
            "Train Epoch: 3 [25600/60000 (43%)]\tLoss: -0.843730\n",
            "Train Epoch: 3 [38400/60000 (64%)]\tLoss: -0.796939\n",
            "Train Epoch: 3 [51200/60000 (85%)]\tLoss: -0.832635\n",
            "\n",
            "Test set: Average loss: -0.8505, Accuracy: 8511/10000 (85%)\n",
            "\n",
            "Train Epoch: 4 [0/60000 (0%)]\tLoss: -0.867294\n",
            "Train Epoch: 4 [12800/60000 (21%)]\tLoss: -0.890568\n",
            "Train Epoch: 4 [25600/60000 (43%)]\tLoss: -0.826310\n",
            "Train Epoch: 4 [38400/60000 (64%)]\tLoss: -0.890766\n",
            "Train Epoch: 4 [51200/60000 (85%)]\tLoss: -0.859375\n",
            "\n",
            "Test set: Average loss: -0.8409, Accuracy: 8410/10000 (84%)\n",
            "\n",
            "Train Epoch: 5 [0/60000 (0%)]\tLoss: -0.781129\n",
            "Train Epoch: 5 [12800/60000 (21%)]\tLoss: -0.828125\n",
            "Train Epoch: 5 [25600/60000 (43%)]\tLoss: -0.843756\n",
            "Train Epoch: 5 [38400/60000 (64%)]\tLoss: -0.846504\n",
            "Train Epoch: 5 [51200/60000 (85%)]\tLoss: -0.796876\n",
            "\n",
            "Test set: Average loss: -0.8330, Accuracy: 8331/10000 (83%)\n",
            "\n",
            "Train Epoch: 6 [0/60000 (0%)]\tLoss: -0.906250\n",
            "Train Epoch: 6 [12800/60000 (21%)]\tLoss: -0.750197\n",
            "Train Epoch: 6 [25600/60000 (43%)]\tLoss: -0.812500\n",
            "Train Epoch: 6 [38400/60000 (64%)]\tLoss: -0.906250\n",
            "Train Epoch: 6 [51200/60000 (85%)]\tLoss: -0.781431\n",
            "\n",
            "Test set: Average loss: -0.8506, Accuracy: 8506/10000 (85%)\n",
            "\n",
            "Train Epoch: 7 [0/60000 (0%)]\tLoss: -0.921875\n",
            "Train Epoch: 7 [12800/60000 (21%)]\tLoss: -0.859375\n",
            "Train Epoch: 7 [25600/60000 (43%)]\tLoss: -0.766964\n",
            "Train Epoch: 7 [38400/60000 (64%)]\tLoss: -0.843751\n",
            "Train Epoch: 7 [51200/60000 (85%)]\tLoss: -0.828125\n",
            "\n",
            "Test set: Average loss: -0.8372, Accuracy: 8371/10000 (84%)\n",
            "\n",
            "Train Epoch: 8 [0/60000 (0%)]\tLoss: -0.875000\n",
            "Train Epoch: 8 [12800/60000 (21%)]\tLoss: -0.843726\n",
            "Train Epoch: 8 [25600/60000 (43%)]\tLoss: -0.859375\n",
            "Train Epoch: 8 [38400/60000 (64%)]\tLoss: -0.919445\n",
            "Train Epoch: 8 [51200/60000 (85%)]\tLoss: -0.890627\n",
            "\n",
            "Test set: Average loss: -0.9237, Accuracy: 9237/10000 (92%)\n",
            "\n",
            "Train Epoch: 9 [0/60000 (0%)]\tLoss: -0.906250\n",
            "Train Epoch: 9 [12800/60000 (21%)]\tLoss: -0.859452\n",
            "Train Epoch: 9 [25600/60000 (43%)]\tLoss: -0.953125\n",
            "Train Epoch: 9 [38400/60000 (64%)]\tLoss: -0.968750\n",
            "Train Epoch: 9 [51200/60000 (85%)]\tLoss: -0.984308\n",
            "\n",
            "Test set: Average loss: -0.9201, Accuracy: 9200/10000 (92%)\n",
            "\n",
            "Train Epoch: 10 [0/60000 (0%)]\tLoss: -0.984375\n",
            "Train Epoch: 10 [12800/60000 (21%)]\tLoss: -0.906186\n",
            "Train Epoch: 10 [25600/60000 (43%)]\tLoss: -0.906334\n",
            "Train Epoch: 10 [38400/60000 (64%)]\tLoss: -0.968750\n",
            "Train Epoch: 10 [51200/60000 (85%)]\tLoss: -0.922338\n",
            "\n",
            "Test set: Average loss: -0.8926, Accuracy: 8925/10000 (89%)\n",
            "\n"
          ]
        }
      ]
    },
    {
      "cell_type": "code",
      "source": [
        "mnist_test = datasets.MNIST(root='MNIST_data/',\n",
        "                         train=False,\n",
        "                         transform=transforms.ToTensor(),\n",
        "                         download=True)"
      ],
      "metadata": {
        "id": "K2xuEoZbiE5s"
      },
      "execution_count": 60,
      "outputs": []
    },
    {
      "cell_type": "code",
      "source": [
        "import matplotlib.pyplot as plt\n",
        "import random\n",
        "\n",
        "with torch.no_grad(): # torch.no_grad()를 하면 gradient 계산을 수행하지 않는다.\n",
        "    for _ in range(5):\n",
        "      r = random.randint(0, len(mnist_test) - 1)\n",
        "      #X_single_data = mnist_test.test_data[r:r + 1].view(-1, 28 * 28).float().to(device)\n",
        "      X_single_data = mnist_test.test_data[r:r + 1].view(-1, 1, 28, 28).float().to(device)\n",
        "      Y_single_data = mnist_test.test_labels[r:r + 1].to(device)\n",
        "\n",
        "      print('Label: ', Y_single_data.item())\n",
        "      single_prediction = model(X_single_data)\n",
        "      print('Prediction: ', torch.argmax(single_prediction, 1).item())\n",
        "\n",
        "      plt.imshow(mnist_test.test_data[r:r + 1].view(28, 28), cmap='Greys', interpolation='nearest')\n",
        "      plt.show()"
      ],
      "metadata": {
        "colab": {
          "base_uri": "https://localhost:8080/",
          "height": 1000
        },
        "id": "xjfddQ9UgLeP",
        "outputId": "b1de607b-fd64-4a72-8369-14b5ad4ee6d0"
      },
      "execution_count": 61,
      "outputs": [
        {
          "output_type": "stream",
          "name": "stdout",
          "text": [
            "Label:  6\n",
            "Prediction:  6\n"
          ]
        },
        {
          "output_type": "display_data",
          "data": {
            "text/plain": [
              "<Figure size 640x480 with 1 Axes>"
            ],
            "image/png": "[encoded data removed]"
          },
          "metadata": {}
        },
        {
          "output_type": "stream",
          "name": "stdout",
          "text": [
            "Label:  7\n",
            "Prediction:  7\n"
          ]
        },
        {
          "output_type": "display_data",
          "data": {
            "text/plain": [
              "<Figure size 640x480 with 1 Axes>"
            ],
            "image/png": "[encoded data removed]"
          },
          "metadata": {}
        },
        {
          "output_type": "stream",
          "name": "stdout",
          "text": [
            "Label:  9\n",
            "Prediction:  9\n"
          ]
        },
        {
          "output_type": "display_data",
          "data": {
            "text/plain": [
              "<Figure size 640x480 with 1 Axes>"
            ],
            "image/png": "[encoded data removed]"
          },
          "metadata": {}
        },
        {
          "output_type": "stream",
          "name": "stdout",
          "text": [
            "Label:  8\n",
            "Prediction:  8\n"
          ]
        },
        {
          "output_type": "display_data",
          "data": {
            "text/plain": [
              "<Figure size 640x480 with 1 Axes>"
            ],
            "image/png": "[encoded data removed]"
          },
          "metadata": {}
        },
        {
          "output_type": "stream",
          "name": "stdout",
          "text": [
            "Label:  5\n",
            "Prediction:  5\n"
          ]
        },
        {
          "output_type": "display_data",
          "data": {
            "text/plain": [
              "<Figure size 640x480 with 1 Axes>"
            ],
            "image/png": "[encoded data removed]"
          },
          "metadata": {}
        }
      ]
    },
    {
      "cell_type": "code",
      "source": [],
      "metadata": {
        "id": "4l6amgqo5Skk"
      },
      "execution_count": 61,
      "outputs": []
    }
  ]
}